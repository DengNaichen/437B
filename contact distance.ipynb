{
 "cells": [
  {
   "cell_type": "code",
   "execution_count": 8,
   "metadata": {
    "collapsed": true
   },
   "outputs": [],
   "source": [
    "import numpy as np\n",
    "import matplotlib.pyplot as plt\n",
    "from numpy import cos\n",
    "from scipy import integrate\n",
    "from mpl_toolkits.mplot3d import Axes3D\n",
    "from Functions import contact_distance\n",
    "%matplotlib qt"
   ]
  },
  {
   "cell_type": "markdown",
   "source": [
    "ellipse"
   ],
   "metadata": {
    "collapsed": false,
    "pycharm": {
     "name": "#%% md\n"
    }
   }
  },
  {
   "cell_type": "code",
   "execution_count": 2,
   "outputs": [],
   "source": [
    "angle = u_1 = np.linspace(0, 2 * np.pi, 100, endpoint=True)\n",
    "a = 3\n",
    "b = 2\n",
    "epsilon_square = 1 - (b**2/a**2)"
   ],
   "metadata": {
    "collapsed": false,
    "pycharm": {
     "name": "#%%\n"
    }
   }
  },
  {
   "cell_type": "code",
   "execution_count": 3,
   "outputs": [],
   "source": [
    "cp = b/np.sqrt(1 - epsilon_square * cos(angle)**2 )"
   ],
   "metadata": {
    "collapsed": false,
    "pycharm": {
     "name": "#%%\n"
    }
   }
  },
  {
   "cell_type": "code",
   "execution_count": 11,
   "outputs": [
    {
     "data": {
      "text/plain": "[<matplotlib.lines.Line2D at 0x7fce9a55fc40>]"
     },
     "execution_count": 11,
     "metadata": {},
     "output_type": "execute_result"
    }
   ],
   "source": [
    "fig = plt.figure()\n",
    "ax = fig.add_subplot(111, projection= \"polar\")\n",
    "ax.plot(angle, cp)"
   ],
   "metadata": {
    "collapsed": false,
    "pycharm": {
     "name": "#%%\n"
    }
   }
  },
  {
   "cell_type": "code",
   "execution_count": 12,
   "outputs": [
    {
     "data": {
      "text/plain": "[<matplotlib.lines.Line2D at 0x7fce7d9ac2e0>]"
     },
     "execution_count": 12,
     "metadata": {},
     "output_type": "execute_result"
    }
   ],
   "source": [
    "plt.plot (angle, cp)\n"
   ],
   "metadata": {
    "collapsed": false,
    "pycharm": {
     "name": "#%%\n"
    }
   }
  },
  {
   "cell_type": "markdown",
   "source": [
    "first we know the area of ellipse is a * b * pi\n",
    "compare with numerical result"
   ],
   "metadata": {
    "collapsed": false,
    "pycharm": {
     "name": "#%% md\n"
    }
   }
  },
  {
   "cell_type": "code",
   "execution_count": 13,
   "outputs": [
    {
     "data": {
      "text/plain": "18.84955592153876"
     },
     "execution_count": 13,
     "metadata": {},
     "output_type": "execute_result"
    }
   ],
   "source": [
    "a * b * np.pi"
   ],
   "metadata": {
    "collapsed": false,
    "pycharm": {
     "name": "#%%\n"
    }
   }
  },
  {
   "cell_type": "code",
   "execution_count": 14,
   "outputs": [],
   "source": [
    "cp_sq = cp**2\n"
   ],
   "metadata": {
    "collapsed": false,
    "pycharm": {
     "name": "#%%\n"
    }
   }
  },
  {
   "cell_type": "code",
   "execution_count": 15,
   "outputs": [
    {
     "data": {
      "text/plain": "18.849555921538762"
     },
     "execution_count": 15,
     "metadata": {},
     "output_type": "execute_result"
    }
   ],
   "source": [
    "0.5 * integrate.trapz(cp_sq, angle)\n"
   ],
   "metadata": {
    "collapsed": false,
    "pycharm": {
     "name": "#%%\n"
    }
   }
  },
  {
   "cell_type": "markdown",
   "source": [
    "so we can use this equation to calculate the area integral of HGO particles"
   ],
   "metadata": {
    "collapsed": false,
    "pycharm": {
     "name": "#%% md\n"
    }
   }
  },
  {
   "cell_type": "markdown",
   "source": [
    "let me try to plot the excluded area for rodlike particles"
   ],
   "metadata": {
    "collapsed": false,
    "pycharm": {
     "name": "#%% md\n"
    }
   }
  },
  {
   "cell_type": "code",
   "execution_count": 16,
   "outputs": [],
   "source": [
    "angle_prime = np.linspace(0, 2 * np.pi, 100, endpoint=True)\n",
    "rodlike_area = np.ones([100, 100])\n",
    "for i in range (len(angle)):\n",
    "    for j in range (len(angle_prime)):\n",
    "        rodlike_area[i][j] = np.abs(np.sin(angle[i] - angle_prime[j]))"
   ],
   "metadata": {
    "collapsed": false,
    "pycharm": {
     "name": "#%%\n"
    }
   }
  },
  {
   "cell_type": "code",
   "execution_count": 17,
   "outputs": [
    {
     "data": {
      "text/plain": "<mpl_toolkits.mplot3d.art3d.Poly3DCollection at 0x7fce8067bfd0>"
     },
     "execution_count": 17,
     "metadata": {},
     "output_type": "execute_result"
    }
   ],
   "source": [
    "X, Y = np.meshgrid(angle, angle_prime)\n",
    "fig3d = plt.figure()\n",
    "ax3D = Axes3D(fig3d)\n",
    "ax3D.plot_surface(X, Y, rodlike_area, rstride=1, cstride=1, cmap=plt.get_cmap('rainbow'))"
   ],
   "metadata": {
    "collapsed": false,
    "pycharm": {
     "name": "#%%\n"
    }
   }
  },
  {
   "cell_type": "markdown",
   "source": [
    "all right, now we can try to plot (or calculate) the excluded area for HGO particles"
   ],
   "metadata": {
    "collapsed": false,
    "pycharm": {
     "name": "#%% md\n"
    }
   }
  },
  {
   "cell_type": "code",
   "execution_count": 23,
   "outputs": [],
   "source": [
    "k = 3\n",
    "chi = (k**2 - 1) / (k**2 + 1)\n",
    "sigma_0 = 1\n",
    "## r_points is theta_1\n",
    "u1_points = np.linspace(0, 2 * np.pi, 100, endpoint=True)\n",
    "u2_points = np.linspace(0, 2 * np.pi, 100, endpoint=True)\n",
    "r_ij_points = np.linspace(0, 2 * np.pi, 100, endpoint=True)\n",
    "rij_norm = 1"
   ],
   "metadata": {
    "collapsed": false,
    "pycharm": {
     "name": "#%%\n"
    }
   }
  },
  {
   "cell_type": "code",
   "execution_count": 25,
   "outputs": [],
   "source": [
    "hgo_area = np.ones ([100, 100])\n",
    "i = 0\n",
    "for u1 in u1_points:\n",
    "    j = 0\n",
    "    for u2 in u2_points:\n",
    "        contact_distance_points = []\n",
    "        for rij in r_ij_points:\n",
    "            contact_distance.append(contact_distance(u1, u2, rij, chi, sigma_0))\n",
    "        I = (1/2) * integrate.simps(contact_distance, u1_points)\n",
    "        hgo_area[i][j] = I\n",
    "        j+=1\n",
    "    i+=1"
   ],
   "metadata": {
    "collapsed": false,
    "pycharm": {
     "name": "#%%\n"
    }
   }
  },
  {
   "cell_type": "code",
   "execution_count": 26,
   "outputs": [
    {
     "data": {
      "text/plain": "<mpl_toolkits.mplot3d.art3d.Poly3DCollection at 0x7fce7d05ae20>"
     },
     "execution_count": 26,
     "metadata": {},
     "output_type": "execute_result"
    }
   ],
   "source": [
    "X, Y = np.meshgrid(angle, angle_prime)\n",
    "fig3d = plt.figure()\n",
    "ax3D = Axes3D(fig3d)\n",
    "ax3D.plot_surface(X, Y, hgo_area, rstride=1, cstride=1, cmap=plt.get_cmap('rainbow'))\n"
   ],
   "metadata": {
    "collapsed": false,
    "pycharm": {
     "name": "#%%\n"
    }
   }
  },
  {
   "cell_type": "code",
   "source": [
    "k = 3\n",
    "chi = (k**2 - 1) / (k**2 + 1)\n",
    "sigma_0 = 1\n",
    "## r_points is theta_1\n",
    "u1_points = 0\n",
    "u2_points = np.linspace(0, np.pi/2, 3, endpoint=True)\n",
    "r_ij_points = np.linspace(0, 2 * np.pi, 100, endpoint=True)\n",
    "rij_norm = 1"
   ],
   "metadata": {
    "collapsed": false,
    "pycharm": {
     "name": "#%%\n"
    }
   },
   "execution_count": 24,
   "outputs": []
  },
  {
   "cell_type": "code",
   "execution_count": 25,
   "outputs": [],
   "source": [
    "j = 0\n",
    "u1 = u1_points\n",
    "contact_distance_dict = {}\n",
    "for u2 in u2_points:\n",
    "    contact_distance_dict[\"$\\\\theta = $\" + str(u2)] = []\n",
    "    for rij in r_ij_points:\n",
    "        contact_distance_dict[\"$\\\\theta = $\" + str(u2)].\\\n",
    "            append(contact_distance(u1, u2, rij, rij_norm, chi, sigma_0))"
   ],
   "metadata": {
    "collapsed": false,
    "pycharm": {
     "name": "#%%\n"
    }
   }
  },
  {
   "cell_type": "code",
   "execution_count": 26,
   "outputs": [
    {
     "name": "stderr",
     "output_type": "stream",
     "text": [
      "<ipython-input-26-476a08d2b68e>:3: MatplotlibDeprecationWarning: Adding an axes using the same arguments as a previous axes currently reuses the earlier instance.  In a future version, a new instance will always be created and returned.  Meanwhile, this warning can be suppressed, and the future behavior ensured, by passing a unique label to each axes instance.\n",
      "  ax = fig.add_subplot(111, projection= \"polar\")\n",
      "<ipython-input-26-476a08d2b68e>:3: MatplotlibDeprecationWarning: Adding an axes using the same arguments as a previous axes currently reuses the earlier instance.  In a future version, a new instance will always be created and returned.  Meanwhile, this warning can be suppressed, and the future behavior ensured, by passing a unique label to each axes instance.\n",
      "  ax = fig.add_subplot(111, projection= \"polar\")\n"
     ]
    }
   ],
   "source": [
    "fig = plt.figure()\n",
    "for u2 in u2_points:\n",
    "    ax = fig.add_subplot(111, projection= \"polar\")\n",
    "    ax.plot(r_ij_points, contact_distance_dict[\"$\\\\theta = $\" + str(u2)])\n",
    "    plt.pause(1)"
   ],
   "metadata": {
    "collapsed": false,
    "pycharm": {
     "name": "#%%\n"
    }
   }
  },
  {
   "cell_type": "code",
   "execution_count": null,
   "outputs": [],
   "source": [],
   "metadata": {
    "collapsed": false,
    "pycharm": {
     "name": "#%%\n"
    }
   }
  }
 ],
 "metadata": {
  "kernelspec": {
   "name": "python3",
   "language": "python",
   "display_name": "Python 3"
  },
  "language_info": {
   "codemirror_mode": {
    "name": "ipython",
    "version": 2
   },
   "file_extension": ".py",
   "mimetype": "text/x-python",
   "name": "python",
   "nbconvert_exporter": "python",
   "pygments_lexer": "ipython2",
   "version": "2.7.6"
  }
 },
 "nbformat": 4,
 "nbformat_minor": 0
}