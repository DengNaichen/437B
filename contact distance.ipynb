{
 "cells": [
  {
   "cell_type": "code",
   "execution_count": 16,
   "metadata": {
    "collapsed": true
   },
   "outputs": [],
   "source": [
    "import numpy as np\n",
    "import matplotlib.pyplot as plt\n",
    "from mpl_toolkits.mplot3d import Axes3D\n",
    "%matplotlib qt"
   ]
  },
  {
   "cell_type": "code",
   "execution_count": 28,
   "outputs": [],
   "source": [
    "k = 3\n",
    "chi = (k**2 - 1) / (k**2 + 1)\n",
    "onr_1 = 1\n",
    "sigma_0 = 1\n",
    "orientation = np.arange(-np.pi, np.pi, 0.1)\n",
    "direction = np.arange(-np.pi, np.pi, 0.1)"
   ],
   "metadata": {
    "collapsed": false,
    "pycharm": {
     "name": "#%%\n"
    }
   }
  },
  {
   "cell_type": "code",
   "execution_count": 29,
   "outputs": [],
   "source": [
    "contact_distance = np.ones((len(orientation), len(direction)))"
   ],
   "metadata": {
    "collapsed": false,
    "pycharm": {
     "name": "#%%\n"
    }
   }
  },
  {
   "cell_type": "code",
   "execution_count": 37,
   "outputs": [
    {
     "name": "stdout",
     "output_type": "stream",
     "text": [
      "63 63\n"
     ]
    }
   ],
   "source": [
    "i = 0\n",
    "for theta1 in orientation:\n",
    "    j = 0\n",
    "    for theta2 in direction:\n",
    "        contact_distance[i][j] = sigma_0 * (1- 0.5 *\n",
    "                                            chi * (((np.cos(theta1) + np.cos(theta2 - theta1))/(1 + chi * np.cos(theta2)))\n",
    "                                                 + ((np.cos(theta1) - np.cos(theta2 - theta1))/(1 - chi * np.cos(theta2))))) ** (-0.5)\n",
    "        j+=1\n",
    "    i+=1\n",
    "print (i, j)"
   ],
   "metadata": {
    "collapsed": false,
    "pycharm": {
     "name": "#%%\n"
    }
   }
  },
  {
   "cell_type": "code",
   "execution_count": 38,
   "outputs": [],
   "source": [
    "X, Y = np.meshgrid(orientation, direction)\n",
    "\n",
    "fig = plt.figure()\n",
    "ax = Axes3D(fig)\n",
    "ax.plot_surface(X, Y, contact_distance, rstride=1, cstride=1, cmap= plt.get_cmap(\"rainbow\"))\n",
    "ax.contourf(X, Y, contact_distance, zdir=\"z\", offset=-1, cmap= \"rainbow\")\n",
    "plt.show()"
   ],
   "metadata": {
    "collapsed": false,
    "pycharm": {
     "name": "#%%\n"
    }
   }
  },
  {
   "cell_type": "code",
   "execution_count": null,
   "outputs": [],
   "source": [],
   "metadata": {
    "collapsed": false,
    "pycharm": {
     "name": "#%%\n"
    }
   }
  }
 ],
 "metadata": {
  "kernelspec": {
   "name": "python3",
   "language": "python",
   "display_name": "Python 3"
  },
  "language_info": {
   "codemirror_mode": {
    "name": "ipython",
    "version": 2
   },
   "file_extension": ".py",
   "mimetype": "text/x-python",
   "name": "python",
   "nbconvert_exporter": "python",
   "pygments_lexer": "ipython2",
   "version": "2.7.6"
  }
 },
 "nbformat": 4,
 "nbformat_minor": 0
}