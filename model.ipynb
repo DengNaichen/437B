{
 "cells": [
  {
   "cell_type": "code",
   "execution_count": 11,
   "metadata": {
    "collapsed": true
   },
   "outputs": [],
   "source": [
    "import matplotlib.pyplot as plt\n",
    "import torch\n",
    "from Data import Data\n",
    "import numpy as np\n",
    "from scipy import integrate\n",
    "from mpl_toolkits.mplot3d import Axes3D\n",
    "from Net import Net\n",
    "from Train import train_free_energy_two_inputs\n",
    "torch.manual_seed(1)\n",
    "%matplotlib qt"
   ]
  },
  {
   "cell_type": "code",
   "execution_count": 2,
   "outputs": [],
   "source": [
    "points = 99\n",
    "lower = 1e-10\n",
    "upper = 2 * np.pi + lower\n",
    "k = 3\n",
    "sigma_0 = 1\n",
    "data_set = Data(points, lower, upper, k, sigma_0)"
   ],
   "metadata": {
    "collapsed": false,
    "pycharm": {
     "name": "#%%\n"
    }
   }
  },
  {
   "cell_type": "code",
   "execution_count": 3,
   "outputs": [],
   "source": [
    "x, input_vars = data_set.variables()\n",
    "simpson_matrix = data_set.simpson_matrix()\n",
    "hgo_area = data_set.calculate_area()"
   ],
   "metadata": {
    "collapsed": false,
    "pycharm": {
     "name": "#%%\n"
    }
   }
  },
  {
   "cell_type": "code",
   "execution_count": 4,
   "outputs": [],
   "source": [
    "X, Y = np.meshgrid(x, x)\n",
    "fig3d = plt.figure()\n",
    "ax3D = Axes3D(fig3d)\n",
    "ax3D.plot_surface(X, Y, hgo_area.data.numpy(), rstride=1, cstride=1, cmap=plt.get_cmap('rainbow'))\n",
    "plt.show()"
   ],
   "metadata": {
    "collapsed": false,
    "pycharm": {
     "name": "#%%\n"
    }
   }
  },
  {
   "cell_type": "code",
   "execution_count": 19,
   "outputs": [],
   "source": [
    "Layers = [2, 16, 16, 16, 16, 1]\n",
    "learning_rate = 0.01\n",
    "rho = 3"
   ],
   "metadata": {
    "collapsed": false,
    "pycharm": {
     "name": "#%%\n"
    }
   }
  },
  {
   "cell_type": "code",
   "execution_count": 20,
   "outputs": [],
   "source": [
    "net = Net(Layers)\n",
    "optimizer = torch.optim.Adam(net.parameters(), lr=learning_rate)\n",
    "scheduler = torch.optim.lr_scheduler.StepLR(optimizer, step_size=1000, gamma=0.9)\n",
    "lambd = 200\n",
    "net = train_free_energy_two_inputs(net, x, input_vars, rho, lambd, scheduler,\n",
    "                                   simpson_matrix ,optimizer, hgo_area, epochs = 10000,\n",
    "                                diagram=False)\n",
    "output = net (input_vars)\n",
    "plt.plot(x.data.numpy(), output.data.numpy())\n",
    "plt.ylim([0, 0.6])\n",
    "plt.show()"
   ],
   "metadata": {
    "collapsed": false,
    "pycharm": {
     "name": "#%%\n"
    }
   }
  },
  {
   "cell_type": "code",
   "execution_count": null,
   "outputs": [],
   "source": [],
   "metadata": {
    "collapsed": false,
    "pycharm": {
     "name": "#%%\n"
    }
   }
  }
 ],
 "metadata": {
  "kernelspec": {
   "display_name": "Python 3",
   "language": "python",
   "name": "python3"
  },
  "language_info": {
   "codemirror_mode": {
    "name": "ipython",
    "version": 2
   },
   "file_extension": ".py",
   "mimetype": "text/x-python",
   "name": "python",
   "nbconvert_exporter": "python",
   "pygments_lexer": "ipython2",
   "version": "2.7.6"
  }
 },
 "nbformat": 4,
 "nbformat_minor": 0
}